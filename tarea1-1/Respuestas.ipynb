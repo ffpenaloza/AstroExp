{
 "cells": [
  {
   "cell_type": "markdown",
   "metadata": {
    "nbpresent": {
     "id": "966dc281-ea79-438d-8574-d0261bcfb3a5"
    }
   },
   "source": [
    "<h1>Tarea 1, parte 1</h1>\n",
    "<h2>Pregunta 1</h2>\n",
    "\n",
    "NGC 121 es un cúmulo globular que se encuentra en la dirección de la constelación de Tucana (RA 00 26 49.0; DEC -71 32 10), en la Pequeña Nube de Magallanes. Fue descubierto en 1835 por John Herschel.\n",
    "Su módulo de distancia es de $(M-m)=18.94$, que corresponde a una distancia de $61KPc$. Es poco extendido, con un radio de $53.7Pc$ y su edad se estima en 10 mil millones de años.\n",
    "\n",
    "Fuentes:\n",
    "<ol>\n",
    "<li><a href=\"http://ned.ipac.caltech.edu/cgi-bin/nph-objsearch?objname=NGC+121&extend=no&out_csys=Equatorial&out_equinox=J2000.0&obj_sort=RA+or+Longitude&of=pre_text&zv_breaker=30000.0&list_limit=5&img_stamp=YES#ObjNo1\">IPAC</a></li>\n",
    "<li><a href=\"https://www.nasa.gov/content/goddard/oldest-cluster/#.V6fI4N9ythE\">NASA</a></li>\n",
    "<li><a href=\"http://simbad.u-strasbg.fr/simbad/sim-id?Ident=%403279874&Name=NGC+++121&submit=display+all+measurements#lab_meas\">Simbad</a></li>\n",
    "</ol>\n",
    "<hr>\n",
    "<h2>Pregunta 2</h2><br>\n",
    "\n",
    "Se utilizarán los dos resultados al consultar la Hubble Legacy Archive por imágenes de nivel 2 obtenidas usando ACS/HRC. ACS es la <em>Advanced Camera for Surveys</em>, que contiene tres cámaras; la HRC, <em>High Resolution Camera</em> (0.025''/px), es una de ellas (actualmente se encuentra inoperable).\n",
    "\n",
    "Las imágenes fueron tomadas en las bandas correspondientes a los filtros amplios (150nm de ancho aproximadamente) F555W, centrado en el verde de 530.8nm; y F814W, centrado en 802.4nm, infrarrojo. Los filtros del sistema fotométrico más cercanos serían justamente el <strong>V</strong>, centrado en 551nm y el <strong>I</strong>, centrado en 806nm.\n",
    "\n",
    "Cada archivo FITS incluye las extensiones:\n",
    "<ol>\n",
    " <li><strong>PRIMARY</strong>, que contiene información en el <em>header</em> pero no contiene imagen.</li>\n",
    " <li><strong>SCI</strong> (science), que contiene la imagen de ciencia.</li>\n",
    " <li><strong>WHT</strong> (weight), que contiene una imagen que representa un mapa con el peso relativo de cada píxel según el inverso de la varianza.</li>\n",
    " <li><strong>CTX</strong> (context), que contiene una imagen que representa un mapa de cuáles imágenes (antes de combinarlas) contribuyen en cada píxel de la imagen final combinada.</li>\n",
    " <li><strong>HDRTAB</strong> (header table), que guarda registro de los valores que cambian en el header de una imagen combinada tras agregar una nueva imagen.</li>\n",
    " <li><strong>EXP</strong> (exposure), que indica el peso por píxel dado por el tiempo de exposición que tuvo su imagen original.</li>\n",
    "</ol>\n",
    "\n",
    "Se requiere guardar cada imagen de ciencia y el mapa de pesos en un archivo separado. Para ello, se utiliza el módulo astropy.io.fits:"
   ]
  },
  {
   "cell_type": "code",
   "execution_count": 1,
   "metadata": {
    "collapsed": false
   },
   "outputs": [],
   "source": [
    "from astropy.io import fits\n",
    "\n",
    "f555w = fits.open('hst_10396_a4_acs_hrc_f555w_drz.fits')\n",
    "f814w = fits.open('hst_10396_a4_acs_hrc_f814w_drz.fits')\n",
    "\n",
    "f555w[1].writeto('sci_f555w_n121.fits',clobber=True)\n",
    "f555w[2].writeto('invar_f555w_n121.fits',clobber=True)\n",
    "\n",
    "f814w[1].writeto('sci_f814w_n121.fits',clobber=True)\n",
    "f814w[2].writeto('invar_f814w_n121.fits',clobber=True)\n",
    "\n",
    "f555w.close()\n",
    "f814w.close()"
   ]
  },
  {
   "cell_type": "markdown",
   "metadata": {},
   "source": [
    "Por último, se puede comprobar que las imágenes están bien alineadas con ayuda de <em>DS9</em> si se eligen algunas estrellas y se compara su posición.\n",
    "<hr>\n",
    "<h2>Pregunta 3</h2>\n",
    "<br>\n",
    "Para esta pregunta se utilizó SExtractor (SE). Los parámetros de base se tomaron de las configuraciones por defecto de SE (archivo default.sex) pero se cambiaron las opciones de acuerdo a lo requerido, para cada imagen, según información disponible en la web del Space Telescope Science Institute:\n",
    " <ul>\n",
    "  <li><a href=\"http://www.stsci.edu/hst/acs/documents/handbooks/cycle19/c04_detector4.html#372434\">HRC; ganancia, saturación, etc</a></li>\n",
    "  <li><a href=\"http://www.stsci.edu/hst/acs/analysis/zeropoints/old_page/localZeropoints\">Tablas de zeropoints</a></li>\n",
    " </ul>\n",
    "Y también en <a href=\"http://iopscience.iop.org/article/10.1086/444553/pdf\">Sirianni et al. (2005)</a>.\n",
    "\n",
    "Se ejecutó de la siguiente manera:\n",
    "\n",
    "<tt>sextractor sci_f555w_n121.fits -c f555w.sex</tt><br>\n",
    "<tt>sextractor sci_f814w_n121.fits -c f814w.sex</tt>\n",
    "\n",
    "Como resultado se obtuvieron catálogos que incluyen las columnas <strong>MAG_APER, MAGERR_APER, ALPHA_J2000</strong> y <strong>DELTA_J2000</strong>.\n",
    "\n",
    "Se obtuvieron <strong>6144</strong> objetos para la imagen en el filtro f555w y <strong>4801</strong> para la imagen en el filtro f814w. Los archivos de configuración y los catálogos obtenidos están en este repositorio.\n",
    "<hr>\n",
    "<h2>Pregunta 4</h2>\n",
    "Una vez obtenidos los catálogos para ambos filtros, se realiza una comparación y <em>match</em> entre ambos para obtener las fuentes comunes. Esto se hace con el módulo de python <strong>astropy.coordinates</strong>:"
   ]
  },
  {
   "cell_type": "code",
   "execution_count": 4,
   "metadata": {
    "collapsed": false
   },
   "outputs": [],
   "source": [
    "from astropy import units as u\n",
    "from astropy.coordinates import SkyCoord\n",
    "from astropy.io import fits\n",
    "import numpy as np\n",
    "import os\n",
    "\n",
    "# Se cargan listas con RA y DEC para cada imagen\n",
    "RAf555w = np.loadtxt('f555w.cat',usecols=(3,))\n",
    "DEf555w = np.loadtxt('f555w.cat',usecols=(4,))\n",
    "\n",
    "RAf814w = np.loadtxt('f814w.cat',usecols=(3,))\n",
    "DEf814w = np.loadtxt('f814w.cat',usecols=(4,))\n",
    "\n",
    "# Match por parte de astropy\n",
    "catalog = SkyCoord(ra=RAf555w*u.degree, dec=DEf555w*u.degree)  \n",
    "c = SkyCoord(ra=RAf814w*u.degree, dec=DEf814w*u.degree)  \n",
    "idx = c.match_to_catalog_sky(catalog)\n",
    "\n",
    "# Del catalogo f555w.cat se extraen las filas que indica el match\n",
    "matches = list(idx[0])\n",
    "f555w = np.loadtxt('f555w.cat')\n",
    "f814w = np.loadtxt('f814w.cat')\n",
    "out = []\n",
    "\n",
    "j = 0\n",
    "for i in matches:\n",
    "\tout.append(np.concatenate([f555w[i],f814w[j]]))\n",
    "\tj = j+1\n",
    "\n",
    "# Salida a archivo\n",
    "np.savetxt('n121_match.cat',out,\n",
    "\tfmt='%d\\t%.4f\\t%.4f\\t%.7f\\t%.7f\\t%d\\t%.4f\\t%.4f\\t%.7f\\t%.7f',\n",
    "\theader='f555wN\\tf555wMAG\\tf555wMAGERR\\tf555wALPHA\\tf555wDELTA\\tf814wN\\tf814wMAG\\tf814wMAGERR\\tf814wALPHA\\tf814wDELTA',\n",
    "\tfooter='END')\n"
   ]
  },
  {
   "cell_type": "markdown",
   "metadata": {},
   "source": [
    "De esta forma se obtiene un catálogo de <strong>4801</strong> objetos que se logran emparejar en ambas imágenes. Si se observa que de la imagen en filtro f814w se obtuvieron exactamente 4801 fuentes, entonces se evidencia que para cada estrella en dicha imagen se encontró un par en el filtro f555w. Esto demuestra que las imágenes están bien alineadas. Sin embargo, a distintas fuentes del filtro f814w se les emparejó con la misma fuente en f555w por parte de astropy. Las coincidencias entre ambos catálogos sin contar estas duplicidades son de alrededor del 92%. \n",
    "\n",
    "El siguiente paso es calibrar las magnitudes. Se utiliza el sistema <em>VEGAMAG</em>, en donde la magnitud de Vega en cualquier filtro se define como <strong>0</strong>. Se ajusta el <strong>zeropoint</strong> en este sistema, que se define como la magnitud de un objeto que produce una cuenta por segundo para un tiempo de exposición determinado. Como el Zeropoint fue un parámetro de entrada para SE, ya se calibró esta parte.\n",
    "\n",
    "También hay que considerar la <strong>aperture correction</strong> para la HRC. Dado que al hacer fotometría se utilizan aperturas pequeñas para mejorar la relación señal a ruido (SNR), solo una parte de la energía priveniente de la fuente logra medirse. Se incluye una corrección para \"recuperar\" las cuentas de diferencia que se obtendrían de utilizar una apertura \"infinita\". Estos ajustes están presentes en <a href=\"http://iopscience.iop.org/article/10.1086/444553/pdf\">Sirianni et al. (2005)</a>. Para aplicar esta correción (dada en unidades de magnitud) basta con adicionar el valor de ajuste a la magnitud que ya se tenía, para cada filtro. Se utilizó $0.24$ para el filtro f555w y $0.452$ para el f814w, para una apertura de $0.025''/px \\times 6px = 0.15''$. \n",
    "\n",
    "Por último, hay que tener en cuenta el <strong>reddening</strong>, que se refiere a la absorción y dispersión de luz por parte del polvo interestelar, que afecta más a la luz azul que a la roja, por lo que las fuentes se enrojecen. Esto depende, etonces, de la banda en que se observe y del objeto. Otra vez de Sirianni, se toman los valores magnitud de $3.180$ y $1.803$ (que corresponden a objetos del tipo G2) para los filtros f555w y f814w, respectivamente. Estos números se restan de las magnitudes anteriores, de modo que se obtiene una magnitud que representa un objeto más brillantes de lo que se observa.\n"
   ]
  },
  {
   "cell_type": "code",
   "execution_count": 1,
   "metadata": {
    "collapsed": false
   },
   "outputs": [],
   "source": [
    "from astropy.io import ascii\n",
    "import matplotlib\n",
    "import matplotlib.pyplot as plt\n",
    "\n",
    "# Genera plot\n",
    "tbl = ascii.read('n121_match.cat')\n",
    "plt.scatter((tbl[\"f555wMAG\"]+0.24) - (tbl[\"f814wMAG\"]+0.452) +  (3.180-1.803), (tbl[\"f555wMAG\"]+0.24-3.180),c='black',s=1)\n",
    "plt.xlim(0, 3)\n",
    "plt.ylim(reversed(plt.ylim(14,22.5)))\n",
    "plt.xlabel(\"$F555W-F814W$\", fontsize=20)\n",
    "plt.ylabel(\"$F555W$\", fontsize=20)\n",
    "plt.savefig('cmd_n121', dpi=None, facecolor='w', edgecolor='w',\n",
    "        orientation='portrait', papertype=None, format=None,\n",
    "        transparent=False, bbox_inches=None, pad_inches=0.1,\n",
    "        frameon=None)"
   ]
  },
  {
   "cell_type": "markdown",
   "metadata": {},
   "source": [
    "<img src=\"cmd_n121.png\">"
   ]
  }
 ],
 "metadata": {
  "anaconda-cloud": {},
  "kernelspec": {
   "display_name": "Python [Root]",
   "language": "python",
   "name": "Python [Root]"
  },
  "language_info": {
   "codemirror_mode": {
    "name": "ipython",
    "version": 2
   },
   "file_extension": ".py",
   "mimetype": "text/x-python",
   "name": "python",
   "nbconvert_exporter": "python",
   "pygments_lexer": "ipython2",
   "version": "2.7.12"
  }
 },
 "nbformat": 4,
 "nbformat_minor": 0
}
