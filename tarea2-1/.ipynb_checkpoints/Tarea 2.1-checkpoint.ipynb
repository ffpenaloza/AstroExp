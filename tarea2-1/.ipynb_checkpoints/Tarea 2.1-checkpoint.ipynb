{
 "cells": [
  {
   "cell_type": "markdown",
   "metadata": {},
   "source": [
    "  **1.- Describiendo las misiones Kepler y K2**\n",
    "\n",
    "---\n",
    "\n",
    "Kepler es decima mision espacial perteneciente al programa *Discovery* de la NASA, pero independiente a los propositos generales de esta, que fue lanzada el 7 de marzo de 2009 con un presupuesto de 550 millones de dolares. El objetivo de la misión Kepler es detectar planetas extrasolares, poniendo enfasis en planetas rocosos con tamaños similares, mediante el análisis de curvas de luz de estrellas. Kepler ha encontrado hasta la fecha 2329 planetas extrasolares en 1647 estrellas y 9 de estos planetas están en las zonas habitables de sus estrellas.\n",
    "\n",
    "KOI (Kepler Object of Interest / Objetos de Interes de Kepler) son estrellas que fueron observadas por el satélite Kepler, que son de interes para continuar observándose, ya que probablemente posean planetas en órbitas.\n",
    "\n",
    "KIC (Kepler Input Catalog / Catálogo en Entrada de Kepler) es una base de datos de cerca de 13,2 millones de estrellas las cuales Kepler puede observar, si la estrella presenta indicios de algun tránsito, entonces, se clasifica como un KOI.\n",
    "\n",
    "La misión K2 entró en funcionamiento en junio de 2014 como respuesta a los desperfectos que tuvo la nave de la misión Kepler en dos de sus ruedas de reacción. Está destinada a hacer observaciones en el plano de la eclíptica.\n",
    "\n",
    "EPIC (K2 Ecliptic Plane Input Catalog / Catálogo de entrada en el Plano de la Eclítica de K2) es un catálogo análogo a lo que era KOI para la misión Kepler. El propósito principal del catálogo es definir aperturas fotométricas para cada objetivo potencial proporcionando posiciones celestes y magnitudes de pasabanda Kepler.\n",
    "\n",
    "Fuentes:\n",
    "> *http://keplerscience.arc.nasa.gov/K2/ProposeTargets.shtml*\n",
    "\n",
    "> *https://keplerscience.arc.nasa.gov/objectives.html*\n",
    "\n",
    "> *http://www.nasa.gov/centers/ames/spanish/research/exploringtheuniverse/exploringtheuniverse-kepler.html*\n",
    "\n",
    "> *https://en.wikipedia.org/wiki/Kepler_Input_Catalog*\n",
    "\n",
    "> *http://www.publico.es/ciencias/mision-kepler-nasa-anuncia-descubrimiento.html*\n",
    "\n",
    "> *https://en.wikipedia.org/wiki/Kepler_object_of_interest*"
   ]
  },
  {
   "cell_type": "markdown",
   "metadata": {},
   "source": [
    "  **2.- Obteniendo curvas de luz**\n",
    "\n",
    "---\n",
    "\n",
    "Para obtener las curvas de luz se usó el módulo *kplr*"
   ]
  },
  {
   "cell_type": "code",
   "execution_count": 1,
   "metadata": {
    "collapsed": false
   },
   "outputs": [
    {
     "name": "stdout",
     "output_type": "stream",
     "text": [
      "85691566916.9\n",
      "25\n",
      "3427662676.68\n"
     ]
    },
    {
     "data": {
      "image/png": "[encoded data removed]",
      "text/plain": [
       "<matplotlib.figure.Figure at 0x7f755b5deac8>"
      ]
     },
     "metadata": {},
     "output_type": "display_data"
    }
   ],
   "source": [
    "import kplr\n",
    "import matplotlib.pyplot as plt\n",
    "import numpy as np\n",
    "%matplotlib inline\n",
    "client = kplr.API()\n",
    "\n",
    "star1 = client.star(2305930)\n",
    "\n",
    "curva1 = star1.get_light_curves(short_cadence=False)\n",
    "\n",
    "time1, flux1, ferr1, quality1 = [], [], [], []\n",
    "\n",
    "for lc in curva1:\n",
    "    with lc.open() as f:\n",
    "        hdu_data = f[1].data\n",
    "        times1 = hdu_data[\"time\"]\n",
    "        pdc_fluxes1 = hdu_data[\"pdcsap_flux\"]\n",
    "        qualities1 = hdu_data[\"sap_quality\"]\n",
    "        #quitamos los elementos que sean \"nan\"\n",
    "        idx = np.isnan(pdc_fluxes1)\n",
    "        time1.append(times1[~idx])\n",
    "        flux1.append(pdc_fluxes1[~idx])\n",
    "        quality1.append(qualities1[~idx])\n",
    "\n",
    "ejex1 = np.array([])\n",
    "ejey1 = np.array([])\n",
    "\n",
    "for i in range(len(time1)):\n",
    "    ejex1 = np.append(ejex1,time1[i])\n",
    "    ejey1 = np.append(ejey1,flux1[i])\n",
    "\n",
    "sumaprom = 0\n",
    "numprom = 0\n",
    "uind = 0\n",
    "suma = 0\n",
    "prom = 0\n",
    "dif = 0\n",
    "\n",
    "#determinamos el pormedio de cada trozo discontinuo en la curva de luz\n",
    "for j in range(len(ejey1)-1):\n",
    "    dif = ejey1[j+1] - ejey1[j]\n",
    "    if dif > 1500 or dif < -1500:\n",
    "        for k in range(j-uind):\n",
    "            suma = suma + ejey1[k+uind]  \n",
    "        prom = suma / (j-uind)\n",
    "        sumaprom = sumaprom + prom\n",
    "        numprom = numprom + 1\n",
    "        uind = j\n",
    "        \n",
    "print(sumaprom)\n",
    "print(numprom)\n",
    "\n",
    "gprom = sumaprom/numprom\n",
    "print(gprom)\n",
    "\n",
    "uind = 0\n",
    "suma = 0\n",
    "prom = 0\n",
    "dif = 0\n",
    "\n",
    "#restamos a cada valor (punto) en el gráfico la diferencia entre el promedio de cada trozo y el promedio general para\n",
    "#llevar los puntos a un mismo nivel. Esto corresponde a la parte 5 de la tarea.\n",
    "for j in range(len(ejey1)-1):\n",
    "    dif = ejey1[j+1] - ejey1[j]\n",
    "    if dif > 2000 or dif < -2000:\n",
    "        for k in range(j-uind):\n",
    "            suma = suma + ejey1[k+uind]  \n",
    "        prom = suma / (j-uind)\n",
    "        if prom < (gprom-prom):\n",
    "            for l in range(j-uind):\n",
    "                ejey1[l+uind] = ejey1[l+uind] - (gprom-prom)\n",
    "        if prom > (gprom-prom):\n",
    "            for l in range(j-uind):\n",
    "                ejey1[l+uind] = (gprom-prom) - ejey1[l+uind]\n",
    "        uind = j\n",
    "\n",
    "#graficamos\n",
    "fig, axis = plt.subplots(figsize=(8,6))\n",
    "axis.plot(ejex1,ejey1,'r.',alpha=0.1)\n",
    "plt.ylim(-3.41e9, -3.43e9)\n",
    "axis.set_xlabel('Tiempo')\n",
    "axis.set_ylabel('Flujo')\n",
    "plt.show()"
   ]
  },
  {
   "cell_type": "markdown",
   "metadata": {},
   "source": [
    "No se por qué no me funciona :(\n",
    "\n",
    "Abajo se repite el procedimiento para las otras dos estrellas."
   ]
  },
  {
   "cell_type": "code",
   "execution_count": 2,
   "metadata": {
    "collapsed": false
   },
   "outputs": [
    {
     "name": "stdout",
     "output_type": "stream",
     "text": [
      "4.77381372979e+12\n",
      "260\n",
      "18360822037.7\n"
     ]
    },
    {
     "data": {
      "image/png": "[encoded data removed]",
      "text/plain": [
       "<matplotlib.figure.Figure at 0x7f75570657f0>"
      ]
     },
     "metadata": {},
     "output_type": "display_data"
    }
   ],
   "source": [
    "star2 = client.star(4348593)\n",
    "\n",
    "curva2 = star2.get_light_curves(short_cadence=False)\n",
    "\n",
    "time2, flux2, ferr2, quality2 = [], [], [], []\n",
    "\n",
    "for lc in curva2:\n",
    "    with lc.open() as f:\n",
    "        hdu_data = f[1].data\n",
    "        times2 = hdu_data[\"time\"]\n",
    "        pdc_fluxes2 = hdu_data[\"pdcsap_flux\"]\n",
    "        qualities2 = hdu_data[\"sap_quality\"]\n",
    "        #quitamos los elementos que sean \"nan\"\n",
    "        idx2 = np.isnan(pdc_fluxes2)\n",
    "        time2.append(times2[~idx2])\n",
    "        flux2.append(pdc_fluxes2[~idx2])\n",
    "        quality2.append(qualities2[~idx2])\n",
    "\n",
    "ejex2 = np.array([])\n",
    "ejey2 = np.array([])\n",
    "\n",
    "for i in range(len(time2)):\n",
    "    ejex2 = np.append(ejex2,time2[i])\n",
    "    ejey2 = np.append(ejey2,flux2[i])\n",
    "    \n",
    "sumaprom = 0\n",
    "numprom = 0\n",
    "uind = 0\n",
    "suma = 0\n",
    "prom = 0\n",
    "dif = 0\n",
    "\n",
    "for j in range(len(ejey2)-1):\n",
    "    dif = ejey2[j+1] - ejey2[j]\n",
    "    if dif > 1500 or dif < -1500:\n",
    "        for k in range(j-uind):\n",
    "            suma = suma + ejey2[k+uind]  \n",
    "        prom = suma / (j-uind)\n",
    "        sumaprom = sumaprom + prom\n",
    "        numprom = numprom + 1\n",
    "        uind = j\n",
    "        \n",
    "print(sumaprom)\n",
    "print(numprom)\n",
    "\n",
    "gprom = sumaprom/numprom\n",
    "print(gprom)\n",
    "\n",
    "uind = 0\n",
    "suma = 0\n",
    "prom = 0\n",
    "dif = 0\n",
    "\n",
    "for j in range(len(ejey2)-1):\n",
    "    dif = ejey2[j+1] - ejey2[j]\n",
    "    if dif > 2000 or dif < -2000:\n",
    "        for k in range(j-uind):\n",
    "            suma = suma + ejey2[k+uind]  \n",
    "        prom = suma / (j-uind)\n",
    "        if prom < (gprom-prom):\n",
    "            for l in range(j-uind):\n",
    "                ejey2[l+uind] = ejey2[l+uind] - (gprom-prom)\n",
    "        if prom > (gprom-prom):\n",
    "            for l in range(j-uind):\n",
    "                ejey2[l+uind] = (gprom-prom) - ejey2[l+uind]\n",
    "        uind = j\n",
    "\n",
    "fig, axis = plt.subplots(figsize=(8,6))\n",
    "axis.plot(ejex2,ejey2,'r.',alpha=0.1)\n",
    "plt.ylim(-0.184e11,-0.18e11)\n",
    "axis.set_xlabel('Tiempo')\n",
    "axis.set_ylabel('Flujo')\n",
    "plt.show()"
   ]
  },
  {
   "cell_type": "code",
   "execution_count": 3,
   "metadata": {
    "collapsed": false
   },
   "outputs": [
    {
     "name": "stdout",
     "output_type": "stream",
     "text": [
      "32449851867.7\n",
      "21\n",
      "1545231041.32\n"
     ]
    },
    {
     "data": {
      "image/png": "[encoded data removed]",
      "text/plain": [
       "<matplotlib.figure.Figure at 0x7f757de98940>"
      ]
     },
     "metadata": {},
     "output_type": "display_data"
    }
   ],
   "source": [
    "star3 = client.star(9469165)\n",
    "\n",
    "curva3 = star3.get_light_curves(short_cadence=False)\n",
    "\n",
    "time3, flux3, ferr3, quality3 = [], [], [], []\n",
    "\n",
    "for lc in curva3:\n",
    "    with lc.open() as f:\n",
    "        hdu_data = f[1].data\n",
    "        times3 = hdu_data[\"time\"]\n",
    "        pdc_fluxes3 = hdu_data[\"pdcsap_flux\"]\n",
    "        qualities3 = hdu_data[\"sap_quality\"]\n",
    "        #quitamos los elementos que sean \"nan\"\n",
    "        idx3 = np.isnan(pdc_fluxes3)\n",
    "        time3.append(times3[~idx3])\n",
    "        flux3.append(pdc_fluxes3[~idx3])\n",
    "        quality3.append(qualities3[~idx3])\n",
    "\n",
    "ejex3 = np.array([])\n",
    "ejey3 = np.array([])\n",
    "\n",
    "for i in range(len(time3)):\n",
    "    ejex3 = np.append(ejex3,time3[i])\n",
    "    ejey3 = np.append(ejey3,flux3[i])\n",
    "\n",
    "sumaprom = 0\n",
    "numprom = 0\n",
    "uind = 0\n",
    "suma = 0\n",
    "prom = 0\n",
    "dif = 0\n",
    "\n",
    "for j in range(len(ejey3)-1):\n",
    "    dif = ejey3[j+1] - ejey3[j]\n",
    "    if dif > 1500 or dif < -1500:\n",
    "        for k in range(j-uind):\n",
    "            suma = suma + ejey3[k+uind]  \n",
    "        prom = suma / (j-uind)\n",
    "        sumaprom = sumaprom + prom\n",
    "        numprom = numprom + 1\n",
    "        uind = j\n",
    "        \n",
    "print(sumaprom)\n",
    "print(numprom)\n",
    "\n",
    "gprom = sumaprom/numprom\n",
    "print(gprom)\n",
    "\n",
    "uind = 0\n",
    "suma = 0\n",
    "prom = 0\n",
    "dif = 0\n",
    "\n",
    "for j in range(len(ejey3)-1):\n",
    "    dif = ejey3[j+1] - ejey3[j]\n",
    "    if dif > 2000 or dif < -2000:\n",
    "        for k in range(j-uind):\n",
    "            suma = suma + ejey3[k+uind]  \n",
    "        prom = suma / (j-uind)\n",
    "        if prom < (gprom-prom):\n",
    "            for l in range(j-uind):\n",
    "                ejey3[l+uind] = ejey3[l+uind] - (gprom-prom)\n",
    "        if prom > (gprom-prom):\n",
    "            for l in range(j-uind):\n",
    "                ejey3[l+uind] = (gprom-prom) - ejey3[l+uind]\n",
    "        uind = j\n",
    "\n",
    "fig, axis = plt.subplots(figsize=(8,6))\n",
    "axis.plot(ejex3,ejey3,'r.',alpha=0.1)\n",
    "plt.ylim(-1.545e9,-1.534e9)\n",
    "axis.set_xlabel('Tiempo')\n",
    "axis.set_ylabel('Flujo')\n",
    "plt.show()"
   ]
  },
  {
   "cell_type": "markdown",
   "metadata": {},
   "source": [
    "Fuentes:\n",
    "> *http://dan.iel.fm/kplr/#installation*\n",
    "\n",
    "> *http://keplergo.arc.nasa.gov/PyKEprimerLCs.shtml*"
   ]
  },
  {
   "cell_type": "markdown",
   "metadata": {},
   "source": [
    "  **3.- Diagrama flujo versus fase**\n",
    "\n",
    "---\n",
    "\n",
    "Tomamos la curva de luz de KIC5520878 y la reducimos a solo un periodo. Cada periodo tiene 0.269 dias."
   ]
  },
  {
   "cell_type": "code",
   "execution_count": 10,
   "metadata": {
    "collapsed": false
   },
   "outputs": [
    {
     "data": {
      "image/png": "[encoded data removed]",
      "text/plain": [
       "<matplotlib.figure.Figure at 0x7f75544b39b0>"
      ]
     },
     "metadata": {},
     "output_type": "display_data"
    }
   ],
   "source": [
    "star = client.star(5520878)\n",
    "\n",
    "curva = star.get_light_curves(short_cadence=False)\n",
    "\n",
    "time, flux, ferr, quality = [], [], [], []\n",
    "\n",
    "for lc in curva:\n",
    "    with lc.open() as f:\n",
    "        hdu_data = f[1].data\n",
    "        times = hdu_data[\"time\"]\n",
    "        pdc_fluxes = hdu_data[\"pdcsap_flux\"]\n",
    "        qualities = hdu_data[\"sap_quality\"]\n",
    "        #quitamos los elementos que sean \"nan\"\n",
    "        idx = np.isnan(pdc_fluxes)\n",
    "        time.append(times[~idx])\n",
    "        flux.append(pdc_fluxes[~idx])\n",
    "        quality.append(qualities[~idx])\n",
    "\n",
    "ejex = np.array([])\n",
    "ejey = np.array([])\n",
    "\n",
    "for i in range(len(time3)):\n",
    "    ejex = np.append(ejex,time[i])\n",
    "    ejey = np.append(ejey,flux[i])\n",
    "\n",
    "#graficamos los datos tal como los recibimos\n",
    "fig, axis = plt.subplots(figsize=(8,6))\n",
    "axis.plot(ejex,ejey,'r.',alpha=0.1)\n",
    "plt.xlim(200,220)\n",
    "axis.set_xlabel('Tiempo')\n",
    "axis.set_ylabel('Flujo')\n",
    "plt.show()"
   ]
  },
  {
   "cell_type": "markdown",
   "metadata": {
    "collapsed": true
   },
   "source": [
    "Ahora rellenamos con los puntos para llevarlo al continuo."
   ]
  },
  {
   "cell_type": "code",
   "execution_count": 13,
   "metadata": {
    "collapsed": false
   },
   "outputs": [
    {
     "name": "stdout",
     "output_type": "stream",
     "text": [
      "200.212278005\n",
      "200.47791575\n",
      "El periodo aproximado segun los datos es: 0.265637745411 que es bastante próximo a lo de la literatura\n"
     ]
    },
    {
     "data": {
      "image/png": "[encoded data removed]",
      "text/plain": [
       "<matplotlib.figure.Figure at 0x7f75544c9438>"
      ]
     },
     "metadata": {},
     "output_type": "display_data"
    }
   ],
   "source": [
    "ejexn = np.array([])\n",
    "ejeyn = np.array([])\n",
    "\n",
    "for t in range(len(ejex)-1):\n",
    "    if ejex[t]>200 and ejex[t]<220:\n",
    "        ejexn = np.append(ejexn,ejex[t])\n",
    "        ejeyn = np.append(ejeyn,ejey[t])\n",
    "\n",
    "print(ejexn[10])\n",
    "print(ejexn[22])\n",
    "\n",
    "#se tomó ese promedio viendo la diferencia entre dos cimas en el gráfico de arriba\n",
    "print(\"El periodo aproximado segun los datos es:\", ejexn[22]-ejexn[10], \"que es bastante próximo a lo de la literatura\")\n",
    "\n",
    "#Ahora se completa el diagrama\"\n",
    "for t in range(len(ejexn)-1):\n",
    "    if ejexn[t]>0 and ejexn[t]<20:\n",
    "        ejexn = np.append(ejexn,ejexn[t]+0,269)\n",
    "        ejeyn = np.append(ejeyn,ejeyn[t])\n",
    "\n",
    "fig, axis = plt.subplots(figsize=(8,6))\n",
    "axis.plot(ejexn,ejeyn,'g.',alpha=0.1)\n",
    "plt.xlim(219.462,220)\n",
    "axis.set_xlabel('Tiempo')\n",
    "axis.set_ylabel('Flujo')\n",
    "plt.show()"
   ]
  },
  {
   "cell_type": "markdown",
   "metadata": {},
   "source": [
    "Fuentes:\n",
    "> *https://arxiv.org/pdf/1409.1265v2.pdf*"
   ]
  },
  {
   "cell_type": "markdown",
   "metadata": {},
   "source": [
    "  **4.- Comparando con parámetros estelares**\n",
    "\n",
    "---\n",
    "\n",
    "Tomamos"
   ]
  },
  {
   "cell_type": "code",
   "execution_count": null,
   "metadata": {
    "collapsed": true
   },
   "outputs": [],
   "source": []
  }
 ],
 "metadata": {
  "anaconda-cloud": {},
  "kernelspec": {
   "display_name": "Python [Root]",
   "language": "python",
   "name": "Python [Root]"
  },
  "language_info": {
   "codemirror_mode": {
    "name": "ipython",
    "version": 2
   },
   "file_extension": ".py",
   "mimetype": "text/x-python",
   "name": "python",
   "nbconvert_exporter": "python",
   "pygments_lexer": "ipython2",
   "version": "2.7.12"
  }
 },
 "nbformat": 4,
 "nbformat_minor": 0
}
