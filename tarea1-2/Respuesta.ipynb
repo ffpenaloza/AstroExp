{
 "cells": [
  {
   "cell_type": "markdown",
   "metadata": {},
   "source": [
    "<h1>Tarea 1, parte 2</h1>\n",
    "<h2>Pregunta 1</h2>\n",
    "Para convertir del sistema de filtros de la HRC al sistema UBVRI, se realiza el ajuste siguiendo la pauta del ejemplo (que transforma del sistema HRC a WFC) de Sirianni et al. (2005):\n",
    "$$(1): V = F555W + c_{1,1}(V-I)+c_{2,1}(V-I)^2$$\n",
    "$$(2): I = F814W + c_{2,1}(V-I)+c_{2,2}(V-I)^2$$\n",
    "Los valores de las constantes se encuentran tabuladas para cada filtro, y dependen del valor $TCOL = F555W - F814W$, el cual también se asumirá como el valor $(V-I)$ para una primera aproximación. Luego se aplica la ecuación (1) y (2) para calcular V e I. Se calcula $TCOL$ con los valores actualizados de $(V-I)$ y se vuelven a aplicar las ecuaciones (1) y (2). Repitiendo el procedimiento, los valores $(V-I)$ cambian cada vez menos. Se comprueba que realizar 6 repeticiones basta para obtener un resultado con mejor precisión que la magnitud de entrada, pero se realizarán un par más en esta ocasión.\n",
    "\n",
    "Se escribe un catálogo y un CMD con esta nueva información."
   ]
  },
  {
   "cell_type": "code",
   "execution_count": null,
   "metadata": {
    "collapsed": true
   },
   "outputs": [],
   "source": [
    "from astropy.io import ascii\n",
    "import matplotlib\n",
    "import matplotlib.pyplot as plt\n",
    "import numpy as np\n",
    "import HessCMD\n",
    "\n",
    "tbl = ascii.read('n121_match.cat')\n",
    "\n",
    "def transform(v,i):\n",
    "\tc1f555 = [-0.09,-0.124]\n",
    "\tc2f555 = [0.034,0.018]\n",
    "\tc1f814 = [0.06,0.001]\n",
    "\tc2f814 = [-0.099,0.013]\n",
    "\tfor j in range(8):\n",
    "\t\ttcol = v-i\n",
    "\t\tv = np.where(tcol<0.6, (tbl['f555wMAG']+c1f555[0]*tcol+c2f555[0]*tcol*tcol), (tbl['f555wMAG']+c1f555[1]*tcol+c2f555[1]*tcol*tcol))\n",
    "\t\ti = np.where(tcol<0.1, (tbl['f814wMAG']+c1f814[0]*tcol+c2f814[0]*tcol*tcol), (tbl['f814wMAG']+c1f814[1]*tcol+c2f814[1]*tcol*tcol))\n",
    "\treturn v,i\n",
    "\n",
    "tbl['V'], tbl['I'] = transform(tbl['f555wMAG'],tbl['f814wMAG'])\n",
    "\n",
    "# Genera catalogo\n",
    "data = [tbl['V'],tbl['I'],tbl['f814wALPHA'],tbl['f814wDELTA']]\n",
    "ascii.write(data,'n121_ubvri.cat',delimiter='\\t')\n",
    "\n",
    "# Genera plots\n",
    "HessCMD.plotHess(tbl['V'], tbl['V']-tbl['I'], cbarrtitle='Density', saveas='HessCMD_n121.png', cbarr='Yes')\n",
    "\n",
    "fig, axis = plt.subplots(figsize=(8,6))\n",
    "axis.plot(tbl['V']-tbl['I'],tbl['V'],'k.',alpha=0.4,ms=3)\n",
    "axis.set_xlim(-0.5,2)\n",
    "axis.set_ylim(16,25)\n",
    "axis.invert_yaxis()\n",
    "axis.set_xlabel('$V-I$',fontsize=20)\n",
    "axis.set_ylabel('$V$',fontsize=20)\n",
    "plt.savefig('cmd_n121_ubvri', dpi=300)"
   ]
  },
  {
   "cell_type": "markdown",
   "metadata": {},
   "source": [
    "<img src=\"cmd_n121_ubvri.png\">\n",
    "<img src=\"HessCMD_n121.png\">"
   ]
  },
  {
   "cell_type": "markdown",
   "metadata": {},
   "source": [
    "<hr>\n",
    "<h2>Pregunta 2</h2>\n",
    "Usando como parámetros de entrada:\n",
    "<ul>\n",
    " <li>Edad = 10.5 Gyr</li>\n",
    " <li>Fe/H = -1.56</li>\n",
    " <li>Distancia = 61KPc</li>\n",
    " <li>$A_V = 0.1272$</li>\n",
    "</ul>"
   ]
  },
  {
   "cell_type": "code",
   "execution_count": null,
   "metadata": {
    "collapsed": true
   },
   "outputs": [],
   "source": [
    "from isochrones.dartmouth import Dartmouth_Isochrone\n",
    "iso = Dartmouth_Isochrone(bands=['V','I'])\n",
    "model = iso.isochrone(age=10.021189299,feh=-1.56,distance=61000,AV=0.1272)\n",
    "\n",
    "axis.plot(model.V_mag - model.I_mag,model.V_mag,'g',lw=2)\n",
    "plt.savefig('iso_n121', dpi=300)"
   ]
  },
  {
   "cell_type": "markdown",
   "metadata": {},
   "source": [
    "Se obtuvo la isócrona de la imagen (línea verde). Al menos pasa cerca de los puntos obtenidos por fotometría.\n",
    "<img src=\"iso_n121.png\">\n",
    "Sin embargo, para una mejro aproximación sería necesaria una magnitud V mayor, de forma que todo el CMD se mueva a la derecha y hacia abajo.\n",
    "\n",
    "<hr>\n",
    "<h2>Pregunta 3</h2>\n",
    "Para calcular el <em>ridge line</em> del set de datos, primero se dividió el eje y en rangos de 0.22 magnitudes, que es lo mínimo posible para que no aparezcan secotres sin puntos. En cada rango se calculó la mediana de V-I y se ensambló un set de coordenadas que contiene (mediana,V). El segmento en el eje y que contiene la rama horizontal (entre 19.4 y 20) fue ignorado para este cálculo.\n",
    "Posteriormente, se ajustó un polinomio de grado 6.\n",
    "\n",
    "Se grafica en <strong>azul</strong> la línea ajustada.\n",
    "Se ajustarán la magnitudes en la última pregunta con tal de poder comparar esta isócrona con el ridge line y un mejor fit."
   ]
  },
  {
   "cell_type": "code",
   "execution_count": null,
   "metadata": {
    "collapsed": false
   },
   "outputs": [],
   "source": [
    "s = 0.22\n",
    "x = []\n",
    "y1 = np.arange(16.5,19.4,step=s)\n",
    "y2 = np.arange(20,24.5,step=s)\n",
    "y = np.append(y1,y2)\n",
    "for i in y:\n",
    "\ta = np.where((i<tbl['V']) & (tbl['V']<i+s))\n",
    "\tx.append(np.median(tbl['V'][a]-tbl['I'][a]))\n",
    "\n",
    "p = np.poly1d(np.polyfit(y,x,6))\n",
    "#axis.plot(x,y,'r',lw=2)\n",
    "axis.plot(p(y),y,'b',lw=2)\n",
    "plt.savefig('rline_n121', dpi=300)"
   ]
  },
  {
   "cell_type": "markdown",
   "metadata": {},
   "source": [
    "<img src=\"rline_n121.png\">"
   ]
  },
  {
   "cell_type": "markdown",
   "metadata": {
    "collapsed": true
   },
   "source": [
    "<hr>\n",
    "<h2>pregunta 4</h2>\n",
    "Ahora que se tiene la ridge line, se busca una isócrona que se acerque de la mejor manera. Suponiendo que la distancia al cúmulo es el dato mejor conocido, se cambian los valores de edad y metalicidad. Se encuentra que el mejor fit se logra con\n",
    "<ul>\n",
    " <li>Edad: 10.12Gyr</li>\n",
    " <li>Fe/H: -1.2</li>\n",
    "</ul>\n",
    "<img src=\"iso_fit_n121.png\">\n",
    "El fit se traza en rojo. Si bien no es el más cercano a la línea azul, adopta una forma cercana. El trabajo de desplazar el gráfico del CMD puede hacerse al cambiar los valores V e I. Haciendo $V = V+0.1$ Se obtiene el siguiente fit:"
   ]
  },
  {
   "cell_type": "code",
   "execution_count": null,
   "metadata": {
    "collapsed": false,
    "scrolled": false
   },
   "outputs": [],
   "source": [
    "plt.close()\n",
    "fig, axis = plt.subplots(figsize=(8,6))\n",
    "axis.set_xlim(-0.5,2)\n",
    "axis.set_ylim(16,25)\n",
    "axis.invert_yaxis()\n",
    "axis.set_xlabel('$V-I$',fontsize=20)\n",
    "axis.set_ylabel('$V$',fontsize=20)\n",
    "\n",
    "axis.plot(tbl['V']-tbl['I']+0.1,tbl['V']+0.1,'k.',alpha=0.4,ms=3)\n",
    "axis.plot(p(y)+0.1,y+0.1,'b',lw=2)\n",
    "axis.plot(model2.V_mag - model2.I_mag,model2.V_mag,'r',lw=2)\n",
    "plt.savefig('iso_fit2_n121', dpi=300)"
   ]
  },
  {
   "cell_type": "markdown",
   "metadata": {},
   "source": [
    "<img src=\"iso_fit2_n121.png\">\n",
    "\n",
    "Otras isócronas que podrían haberse utilizado son las de Teramo y las de Padova. En la literatura, ambas entregan edades mayores de este cúmulo (11.8 Gyr y 11.2 Gyr respectivamente, según <a href=\"http://iopscience.iop.org/article/10.1088/0004-6256/135/4/1106/pdf\">katharina Glatt et al. 2008</a>)"
   ]
  }
 ],
 "metadata": {
  "kernelspec": {
   "display_name": "Python [Root]",
   "language": "python",
   "name": "Python [Root]"
  },
  "language_info": {
   "codemirror_mode": {
    "name": "ipython",
    "version": 2
   },
   "file_extension": ".py",
   "mimetype": "text/x-python",
   "name": "python",
   "nbconvert_exporter": "python",
   "pygments_lexer": "ipython2",
   "version": "2.7.12"
  }
 },
 "nbformat": 4,
 "nbformat_minor": 0
}
